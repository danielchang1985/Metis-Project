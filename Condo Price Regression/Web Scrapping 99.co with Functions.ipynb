{
 "cells": [
  {
   "cell_type": "code",
   "execution_count": 67,
   "metadata": {},
   "outputs": [
    {
     "data": {
      "text/html": [
       "<style>#notebook { padding-top:0px !important; } .container { width:100% !important; } .end_space { min-height:0px !important; } </style>"
      ],
      "text/plain": [
       "<IPython.core.display.HTML object>"
      ]
     },
     "metadata": {},
     "output_type": "display_data"
    }
   ],
   "source": [
    "from IPython.core.display import display, HTML\n",
    "display(HTML(\n",
    "    '<style>'\n",
    "        '#notebook { padding-top:0px !important; } ' \n",
    "        '.container { width:100% !important; } '\n",
    "        '.end_space { min-height:0px !important; } '\n",
    "    '</style>'\n",
    "))\n",
    "\n",
    "\n",
    "from bs4 import BeautifulSoup\n",
    "import requests\n",
    "import re\n",
    "import pandas as pd"
   ]
  },
  {
   "cell_type": "code",
   "execution_count": 68,
   "metadata": {},
   "outputs": [],
   "source": [
    "from IPython.core.display import display, HTML\n",
    "#display(HTML(my_html))     # make sure Jupyter knows to display it as HTML"
   ]
  },
  {
   "cell_type": "code",
   "execution_count": 69,
   "metadata": {},
   "outputs": [],
   "source": [
    "listings_name = []\n",
    "listings_price = []"
   ]
  },
  {
   "cell_type": "code",
   "execution_count": 70,
   "metadata": {},
   "outputs": [],
   "source": [
    "listings_address_district=[]\n",
    "listings_remaining_info = []\n",
    "\n",
    "listings_type = []\n",
    "listings_ri2 = []\n",
    "\n",
    "listings_age = []\n",
    "listings_ri3 = []\n",
    "\n",
    "listings_bednbath = []\n",
    "listings_ri4 = []\n",
    "\n",
    "listings_size = []\n"
   ]
  },
  {
   "cell_type": "code",
   "execution_count": 71,
   "metadata": {},
   "outputs": [],
   "source": [
    "def NamePriceSeparator(listings_namenprice):\n",
    "    for i in range(len(listings_namenprice)):\n",
    "        if i%2 ==0:\n",
    "            listings_name.append(listings_namenprice[i].text)\n",
    "        else:\n",
    "            listings_price.append(listings_namenprice[i].text)\n",
    "    return\n",
    "    "
   ]
  },
  {
   "cell_type": "code",
   "execution_count": 72,
   "metadata": {},
   "outputs": [],
   "source": [
    "totalpages = 70\n",
    "for i in range(1, totalpages + 1):\n",
    "    i = str(i)\n",
    "    url = 'https://www.99.co/singapore/sale/condos-apartments?page_num=' + i \n",
    "    response = requests.get(url)\n",
    "    page = response.text\n",
    "    soup = BeautifulSoup(page, \"lxml\")\n",
    "    listings_namenprice = soup.find_all('h3', class_=\"Z0npN _1T6Ql\")\n",
    "    NamePriceSeparator (listings_namenprice)\n",
    "    \n",
    "    \n",
    "    listings = soup.find_all('p', class_=\"JPolj TMSN-\")   \n",
    "\n",
    "    for i in range(len(listings)):\n",
    "        if i%6 ==0:\n",
    "            listings_address_district.append(listings[i].text)\n",
    "        else:\n",
    "            listings_remaining_info.append(listings[i].text)\n",
    "            \n",
    "    for i in range(len(listings_remaining_info)):\n",
    "        if i%5 == 0:\n",
    "            listings_type.append(listings_remaining_info[i])\n",
    "        else:\n",
    "            listings_ri2.append(listings_remaining_info[i])\n",
    "            \n",
    "    for i in range(len(listings_ri2)):\n",
    "        if i%4 == 0:\n",
    "            listings_age.append(listings_ri2[i])\n",
    "        else:\n",
    "            listings_ri3.append(listings_ri2[i])\n",
    "            \n",
    "    for i in range(len(listings_ri3)):\n",
    "        if i%3 == 0:\n",
    "            listings_bednbath.append(listings_ri3[i])\n",
    "        else:\n",
    "            listings_ri4.append(listings_ri3[i])\n",
    "\n",
    "    for i in range(len(listings_ri4)):\n",
    "        if i%2 != 0:\n",
    "            listings_size.append(listings_ri4[i])\n",
    "   \n",
    "    listings_remaining_info = []\n",
    "    listings_ri2 = []\n",
    "    listings_ri3 = []\n",
    "    listings_ri4 = []"
   ]
  },
  {
   "cell_type": "code",
   "execution_count": 74,
   "metadata": {},
   "outputs": [],
   "source": [
    "#Take out the '$' and ',' and convert to int.\n",
    "for item in range(len(listings_price)):\n",
    "    listings_price[item] = int(listings_price[item].replace('$', '').replace(',', ''))"
   ]
  },
  {
   "cell_type": "code",
   "execution_count": 75,
   "metadata": {},
   "outputs": [],
   "source": [
    "#split the listings_address_district into address and District and put them in separate lists\n",
    "listings_Address = []\n",
    "listings_District = []\n",
    "listings_address_district =([select for size in listings_address_district for select in size.split('·')])\n",
    "for item in range(len(listings_address_district)):\n",
    "    if (item % 2 == 0):\n",
    "        listings_Address.append(listings_address_district[item])\n",
    "    else:\n",
    "        listings_District.append(listings_address_district[item])\n",
    "\n"
   ]
  },
  {
   "cell_type": "code",
   "execution_count": 76,
   "metadata": {},
   "outputs": [],
   "source": [
    "#some bugger went to key in Floor #** instead of D*, so we replace them with a certain District D0\n",
    "x = 'Floor'\n",
    "for n, item in enumerate(listings_District):\n",
    "    if x in item:\n",
    "        listings_District[n] = ' D0'\n",
    "        listings_District[n] = str(listings_District[n])"
   ]
  },
  {
   "cell_type": "code",
   "execution_count": 77,
   "metadata": {},
   "outputs": [],
   "source": [
    "#split the listings_age into Completion Date(YYYY) and type of Leasehold and put them in separate lists\n",
    "listings_CompletionYr = []\n",
    "listings_Leasehold = []\n",
    "listings_age =([select for size in listings_age for select in size.split('·')])\n",
    "listings_age\n",
    "for item in range(len(listings_age)):\n",
    "    if (item % 2 == 0):\n",
    "        listings_CompletionYr.append(listings_age[item])\n",
    "    else:\n",
    "        listings_Leasehold.append(listings_age[item])"
   ]
  },
  {
   "cell_type": "code",
   "execution_count": 78,
   "metadata": {},
   "outputs": [],
   "source": [
    "for item in range(len(listings_bednbath)):\n",
    "    if listings_bednbath[item] == '':\n",
    "        listings_bednbath[item] = ('Na 0 ')\n",
    "        \n"
   ]
  },
  {
   "cell_type": "code",
   "execution_count": 79,
   "metadata": {},
   "outputs": [],
   "source": [
    "#split the listings_bednbath into respective categories and put them in separate lists\n",
    "listings_bedroom =[]\n",
    "listings_bathroom =[]\n",
    "\n",
    "listings_bednbath = [select for room in listings_bednbath for select in room.split(' ')]\n",
    "#After splitting, there is an empty '' in the order of consecutive 3rd element in the list, hence we drop the ''\n",
    "listings_bednbath[:] = [item for item in listings_bednbath if item != '']\n",
    "\n",
    "for item in range(len(listings_bednbath)):\n",
    "    if (item % 2 == 0):\n",
    "        listings_bedroom.append(listings_bednbath[item])\n",
    "    else:\n",
    "        listings_bathroom.append(listings_bednbath[item])"
   ]
  },
  {
   "cell_type": "code",
   "execution_count": 80,
   "metadata": {},
   "outputs": [],
   "source": [
    "#convert listings_bathroom into int\n",
    "for item in range(len(listings_bathroom)):\n",
    "    listings_bathroom[item] = int(listings_bathroom[item])"
   ]
  },
  {
   "cell_type": "code",
   "execution_count": 81,
   "metadata": {},
   "outputs": [],
   "source": [
    "#split the listings_size into sqft and sqm and put them in separate lists\n",
    "listings_sqft = []\n",
    "listings_sqm = []\n",
    "listings_size =([select for size in listings_size for select in size.split('/')])\n",
    "\n",
    "for item in range(len(listings_size)):\n",
    "    if (item % 2 == 0):\n",
    "        listings_sqft.append(listings_size[item])\n",
    "    else:\n",
    "        listings_sqm.append(listings_size[item])\n",
    "        \n",
    "        "
   ]
  },
  {
   "cell_type": "code",
   "execution_count": 82,
   "metadata": {},
   "outputs": [],
   "source": [
    "#Remove ',' and ' sqft ' and convert to int\n",
    "for item in range(len(listings_sqft)):\n",
    "    listings_sqft[item] =int(listings_sqft[item].replace(',','').replace(' sqft ','')) "
   ]
  },
  {
   "cell_type": "code",
   "execution_count": 83,
   "metadata": {},
   "outputs": [],
   "source": [
    "#Remove ' ' and ' sqm ' and convert to float\n",
    "for item in range(len(listings_sqm)):\n",
    "    listings_sqm[item] =float(listings_sqm[item].replace(',','').replace(' ','').replace('sqm','')) "
   ]
  },
  {
   "cell_type": "code",
   "execution_count": 84,
   "metadata": {},
   "outputs": [],
   "source": [
    "#Now we combine all the lists into a dictionary\n",
    "data = []\n",
    "data = [{'Name': nam, 'Price': pri, 'Address': add, 'District': dis, 'Completion_Year':com, 'Leasehold':lea, 'Bedroom':bed, 'Bathroom':bath, \n",
    "         'Sqft':sqf, 'Sqm':sqm } for nam, pri, add, dis, com, lea, bed, bath, sqf, sqm in zip(listings_name, listings_price, listings_Address, \n",
    "         listings_District, listings_CompletionYr, listings_Leasehold, listings_bedroom, listings_bathroom, listings_sqft, listings_sqm)\n",
    "       ]"
   ]
  },
  {
   "cell_type": "code",
   "execution_count": 86,
   "metadata": {},
   "outputs": [],
   "source": [
    "df = pd.DataFrame(data)"
   ]
  },
  {
   "cell_type": "code",
   "execution_count": 87,
   "metadata": {},
   "outputs": [
    {
     "data": {
      "text/plain": [
       "(2450, 10)"
      ]
     },
     "execution_count": 87,
     "metadata": {},
     "output_type": "execute_result"
    }
   ],
   "source": [
    "df.shape"
   ]
  },
  {
   "cell_type": "code",
   "execution_count": 88,
   "metadata": {},
   "outputs": [],
   "source": [
    "df.to_csv('outputversion.csv')"
   ]
  }
 ],
 "metadata": {
  "kernelspec": {
   "display_name": "Python 3",
   "language": "python",
   "name": "python3"
  },
  "language_info": {
   "codemirror_mode": {
    "name": "ipython",
    "version": 3
   },
   "file_extension": ".py",
   "mimetype": "text/x-python",
   "name": "python",
   "nbconvert_exporter": "python",
   "pygments_lexer": "ipython3",
   "version": "3.8.3"
  }
 },
 "nbformat": 4,
 "nbformat_minor": 4
}
